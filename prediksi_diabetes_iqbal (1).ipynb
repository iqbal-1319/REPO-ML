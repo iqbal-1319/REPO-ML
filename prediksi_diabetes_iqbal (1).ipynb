{
 "cells": [
  {
   "cell_type": "markdown",
   "id": "65ba932b-cbb0-418f-b23f-0eaf58594c12",
   "metadata": {},
   "source": [
    "# Prediksi Diabetes Menggunakan Machine Learning\n",
    "\n",
    "**Nama:** Iqbal Satria Nugraha  \n",
    "**NIM:** A11.2023.15310  \n",
    "**Kelas:** A11.4402\n",
    "**Mata Kuliah:** Pembelajaran Mesin \n",
    "\n"
   ]
  },
  {
   "cell_type": "markdown",
   "id": "4c31ffdf-f664-4b2b-93cb-5a4abc255c52",
   "metadata": {},
   "source": [
    "## Ringkasan dan Permasalahan\n",
    "Diabetes adalah penyakit kronis yang berdampak signifikan pada kesehatan masyarakat. Deteksi dini terhadap risiko diabetes dapat membantu tindakan pencegahan yang lebih cepat dan efektif.\n",
    "\n",
    "Namun, diagnosis diabetes membutuhkan pemeriksaan medis yang terkadang mahal atau memakan waktu. Oleh karena itu, dibutuhkan sistem prediksi berbasis data medis yang cepat dan akurat.\n",
    "\n",
    "## Tujuan\n",
    "- Memprediksi apakah seseorang menderita diabetes berdasarkan data medis dasar.\n",
    "- Menerapkan metode supervised learning untuk membangun model klasifikasi.\n",
    "- Membandingkan performa beberapa algoritma (Logistic Regression, Decision Tree, Random Forest).\n",
    "\n",
    "## Alur Penyelesaian\n",
    "```mermaid\n",
    "graph TD\n",
    "A[Load Dataset] --> B[EDA & Analisis]\n",
    "B --> C[Preprocessing Fitur]\n",
    "C --> D[Split Data Training/Test]\n",
    "D --> E[Modeling dan Pelatihan]\n",
    "E --> F[Evaluasi dan Kesimpulan]\n"
   ]
  },
  {
   "cell_type": "markdown",
   "id": "61305548-515a-4bfb-af8c-8b3b4729e711",
   "metadata": {},
   "source": [
    "\n",
    "---\n",
    "\n",
    "## 📊 **3. Penjelasan Dataset, EDA, dan Proses Fitur**  \n",
    "🟦 **[Markdown Cell]**\n",
    "```markdown\n",
    "## Dataset\n",
    "Dataset yang digunakan adalah **Pima Indians Diabetes Dataset**, terdiri dari 768 data pasien perempuan keturunan Pima Indian dengan 8 fitur prediktor dan 1 label target (`Outcome`).\n",
    "\n",
    "### Fitur:\n",
    "- Pregnancies: Jumlah kehamilan\n",
    "- Glucose: Konsentrasi glukosa darah\n",
    "- BloodPressure: Tekanan darah diastolik\n",
    "- SkinThickness: Ketebalan lipatan kulit\n",
    "- Insulin: Kadar insulin\n",
    "- BMI: Indeks massa tubuh\n",
    "- DiabetesPedigreeFunction: Riwayat keluarga\n",
    "- Age: Usia\n",
    "- Outcome: 1 (diabetes), 0 (tidak)\n",
    "\n",
    "## EDA & Feature Processing\n",
    "Beberapa fitur memiliki nilai nol yang tidak realistis, seperti tekanan darah atau insulin = 0. Nilai tersebut diisi dengan **median**. Dataset kemudian dinormalisasi menggunakan `StandardScaler`.\n"
   ]
  },
  {
   "cell_type": "code",
   "execution_count": 1,
   "id": "eaad0556-988f-4c80-8667-11eff613dfbe",
   "metadata": {
    "scrolled": true
   },
   "outputs": [
    {
     "ename": "ModuleNotFoundError",
     "evalue": "No module named 'pandas'",
     "output_type": "error",
     "traceback": [
      "\u001b[1;31m---------------------------------------------------------------------------\u001b[0m",
      "\u001b[1;31mModuleNotFoundError\u001b[0m                       Traceback (most recent call last)",
      "Cell \u001b[1;32mIn[1], line 1\u001b[0m\n\u001b[1;32m----> 1\u001b[0m \u001b[38;5;28;01mimport\u001b[39;00m\u001b[38;5;250m \u001b[39m\u001b[38;5;21;01mpandas\u001b[39;00m\u001b[38;5;250m \u001b[39m\u001b[38;5;28;01mas\u001b[39;00m\u001b[38;5;250m \u001b[39m\u001b[38;5;21;01mpd\u001b[39;00m\n\u001b[0;32m      2\u001b[0m \u001b[38;5;28;01mimport\u001b[39;00m\u001b[38;5;250m \u001b[39m\u001b[38;5;21;01mnumpy\u001b[39;00m\u001b[38;5;250m \u001b[39m\u001b[38;5;28;01mas\u001b[39;00m\u001b[38;5;250m \u001b[39m\u001b[38;5;21;01mnp\u001b[39;00m\n\u001b[0;32m      3\u001b[0m \u001b[38;5;28;01mimport\u001b[39;00m\u001b[38;5;250m \u001b[39m\u001b[38;5;21;01mseaborn\u001b[39;00m\u001b[38;5;250m \u001b[39m\u001b[38;5;28;01mas\u001b[39;00m\u001b[38;5;250m \u001b[39m\u001b[38;5;21;01msns\u001b[39;00m\n",
      "\u001b[1;31mModuleNotFoundError\u001b[0m: No module named 'pandas'"
     ]
    }
   ],
   "source": [
    "import pandas as pd\n",
    "import numpy as np\n",
    "import seaborn as sns\n",
    "import matplotlib.pyplot as plt\n",
    "\n",
    "# Load dataset\n",
    "file_path = \"pima-indians-diabetes.data.csv\"\n",
    "columns = [\n",
    "    \"Pregnancies\", \"Glucose\", \"BloodPressure\", \"SkinThickness\",\n",
    "    \"Insulin\", \"BMI\", \"DiabetesPedigreeFunction\", \"Age\", \"Outcome\"\n",
    "]\n",
    "\n",
    "data = pd.read_csv(file_path, names=columns)\n",
    "data.head()\n"
   ]
  },
  {
   "cell_type": "code",
   "execution_count": null,
   "id": "5bffa927-c25a-48e9-8bac-2f9ab8b374ec",
   "metadata": {},
   "outputs": [],
   "source": [
    "# Cek informasi awal\n",
    "data.info()\n",
    "data.describe()\n"
   ]
  },
  {
   "cell_type": "code",
   "execution_count": null,
   "id": "bdefd2d6-c40f-47f8-9d36-aa8559b89d6f",
   "metadata": {},
   "outputs": [],
   "source": [
    "# Visualisasi distribusi kelas\n",
    "sns.countplot(x='Outcome', data=data)\n",
    "plt.title(\"Distribusi Kelas\")\n",
    "plt.show()\n"
   ]
  },
  {
   "cell_type": "code",
   "execution_count": null,
   "id": "a40597fe-0952-4bfb-8e39-6c9654810ce4",
   "metadata": {},
   "outputs": [],
   "source": [
    "# Ganti nilai 0 dengan NaN, lalu isi median\n",
    "cols = [\"Glucose\", \"BloodPressure\", \"SkinThickness\", \"Insulin\", \"BMI\"]\n",
    "data[cols] = data[cols].replace(0, np.nan)\n",
    "data.fillna(data.median(), inplace=True)\n"
   ]
  },
  {
   "cell_type": "code",
   "execution_count": null,
   "id": "db6d147d-57d0-46ba-bace-3e57c56e59b5",
   "metadata": {},
   "outputs": [],
   "source": [
    "from sklearn.model_selection import train_test_split\n",
    "from sklearn.preprocessing import StandardScaler\n",
    "\n",
    "X = data.drop(\"Outcome\", axis=1)\n",
    "y = data[\"Outcome\"]\n",
    "\n",
    "scaler = StandardScaler()\n",
    "X_scaled = scaler.fit_transform(X)\n",
    "\n",
    "X_train, X_test, y_train, y_test = train_test_split(X_scaled, y, test_size=0.2, random_state=42)\n"
   ]
  },
  {
   "cell_type": "code",
   "execution_count": null,
   "id": "3f260073-6bff-4045-b13b-7141e72e2854",
   "metadata": {},
   "outputs": [],
   "source": [
    "from sklearn.linear_model import LogisticRegression\n",
    "from sklearn.tree import DecisionTreeClassifier\n",
    "from sklearn.ensemble import RandomForestClassifier\n",
    "\n",
    "# Logistic Regression\n",
    "lr = LogisticRegression()\n",
    "lr.fit(X_train, y_train)\n",
    "y_pred_lr = lr.predict(X_test)\n",
    "\n",
    "# Decision Tree\n",
    "dt = DecisionTreeClassifier()\n",
    "dt.fit(X_train, y_train)\n",
    "y_pred_dt = dt.predict(X_test)\n",
    "\n",
    "# Random Forest\n",
    "rf = RandomForestClassifier()\n",
    "rf.fit(X_train, y_train)\n",
    "y_pred_rf = rf.predict(X_test)\n"
   ]
  },
  {
   "cell_type": "code",
   "execution_count": null,
   "id": "ad1e6b4c-57c0-414a-a1d3-6686d0da280a",
   "metadata": {},
   "outputs": [],
   "source": [
    "from sklearn.metrics import accuracy_score\n",
    "\n",
    "print(\"Akurasi Logistic Regression:\", accuracy_score(y_test, y_pred_lr))\n",
    "print(\"Akurasi Decision Tree:\", accuracy_score(y_test, y_pred_dt))\n",
    "print(\"Akurasi Random Forest:\", accuracy_score(y_test, y_pred_rf))\n"
   ]
  },
  {
   "cell_type": "code",
   "execution_count": null,
   "id": "afe3e8ff-5949-4576-8f26-b4087dd00693",
   "metadata": {},
   "outputs": [],
   "source": [
    "from sklearn.metrics import classification_report, confusion_matrix\n",
    "\n",
    "print(\"Confusion Matrix:\")\n",
    "print(confusion_matrix(y_test, y_pred_rf))\n",
    "\n",
    "print(\"\\nClassification Report:\")\n",
    "print(classification_report(y_test, y_pred_rf))\n"
   ]
  },
  {
   "cell_type": "markdown",
   "id": "14893525-2812-4f14-93ce-e518849d2f8b",
   "metadata": {},
   "source": [
    "## Diskusi dan Kesimpulan\n",
    "\n",
    "- Dataset cukup bersih setelah dilakukan pengisian nilai kosong.\n",
    "- Model **Random Forest** memberikan hasil akurasi tertinggi, diikuti oleh Logistic Regression.\n",
    "- Decision Tree memiliki kecenderungan overfitting pada data training.\n",
    "\n",
    "**Kesimpulan:**\n",
    "Model machine learning dapat digunakan sebagai alat bantu diagnosis awal diabetes berdasarkan data medis dasar. Namun, tetap diperlukan validasi oleh tenaga medis profesional untuk diagnosis final.\n"
   ]
  },
  {
   "cell_type": "code",
   "execution_count": null,
   "id": "91be78c0-f034-4bb0-9d9e-b1e999259909",
   "metadata": {},
   "outputs": [],
   "source": []
  }
 ],
 "metadata": {
  "kernelspec": {
   "display_name": "Python 3 (ipykernel)",
   "language": "python",
   "name": "python3"
  },
  "language_info": {
   "codemirror_mode": {
    "name": "ipython",
    "version": 3
   },
   "file_extension": ".py",
   "mimetype": "text/x-python",
   "name": "python",
   "nbconvert_exporter": "python",
   "pygments_lexer": "ipython3",
   "version": "3.10.11"
  }
 },
 "nbformat": 4,
 "nbformat_minor": 5
}
