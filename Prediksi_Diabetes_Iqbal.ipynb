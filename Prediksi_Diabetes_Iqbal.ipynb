{
 "cells": [
  {
   "cell_type": "markdown",
   "id": "65ba932b-cbb0-418f-b23f-0eaf58594c12",
   "metadata": {},
   "source": [
    "# Prediksi Diabetes\n",
    "\n",
    "**Nama:** Iqbal Satria Nugraha  \n",
    "**NIM:** A11.2023.15310  \n",
    "**Tanggal:** 09 Juli 2025\n"
   ]
  },
  {
   "cell_type": "markdown",
   "id": "4c31ffdf-f664-4b2b-93cb-5a4abc255c52",
   "metadata": {},
   "source": [
    "## Ringkasan Masalah dan Tujuan\n",
    "Proyek ini bertujuan untuk memprediksi apakah seseorang menderita diabetes atau tidak berdasarkan data medis tertentu.\n",
    "\n",
    "Dataset yang digunakan adalah *Pima Indians Diabetes Dataset* yang terdiri dari fitur-fitur medis seperti tekanan darah, kadar glukosa, dan indeks massa tubuh (BMI).\n",
    "\n",
    "### Tujuan:\n",
    "- Melakukan eksplorasi dan preprocessing pada dataset\n",
    "- Melatih beberapa model machine learning\n",
    "- Mengevaluasi performa model dan menentukan mana yang terbaik\n",
    "\n",
    "## Alur Penyelesaian\n",
    "```mermaid\n",
    "graph TD\n",
    "A[Load Dataset] --> B[Explorasi Data]\n",
    "B --> C[Preprocessing]\n",
    "C --> D[Split Data]\n",
    "D --> E[Modeling]\n",
    "E --> F[Evaluasi Model]\n",
    "\n"
   ]
  },
  {
   "cell_type": "markdown",
   "id": "61305548-515a-4bfb-af8c-8b3b4729e711",
   "metadata": {},
   "source": [
    "\n",
    "---\n",
    "\n",
    "### 💻 **[Code Cell] Import dan Load Dataset**\n",
    "```python\n",
    "import pandas as pd\n",
    "import numpy as np\n",
    "import seaborn as sns\n",
    "import matplotlib.pyplot as plt\n",
    "\n",
    "from sklearn.model_selection import train_test_split\n",
    "from sklearn.preprocessing import StandardScaler\n",
    "from sklearn.linear_model import LogisticRegression\n",
    "from sklearn.tree import DecisionTreeClassifier\n",
    "from sklearn.ensemble import RandomForestClassifier\n",
    "from sklearn.metrics import classification_report, confusion_matrix, accuracy_score\n",
    "\n",
    "# Load dataset\n",
    "file_path = \"pima-indians-diabetes.data.csv\"\n",
    "column_names = [\n",
    "    \"Pregnancies\", \"Glucose\", \"BloodPressure\", \"SkinThickness\", \n",
    "    \"Insulin\", \"BMI\", \"DiabetesPedigreeFunction\", \"Age\", \"Outcome\"\n",
    "]\n",
    "\n",
    "data = pd.read_csv(file_path, names=column_names)\n",
    "data.head()\n"
   ]
  },
  {
   "cell_type": "code",
   "execution_count": null,
   "id": "eaad0556-988f-4c80-8667-11eff613dfbe",
   "metadata": {},
   "outputs": [],
   "source": [
    "data.info()\n"
   ]
  },
  {
   "cell_type": "code",
   "execution_count": null,
   "id": "5bffa927-c25a-48e9-8bac-2f9ab8b374ec",
   "metadata": {},
   "outputs": [],
   "source": [
    "data.describe()\n"
   ]
  },
  {
   "cell_type": "code",
   "execution_count": null,
   "id": "bdefd2d6-c40f-47f8-9d36-aa8559b89d6f",
   "metadata": {},
   "outputs": [],
   "source": [
    "sns.countplot(x=\"Outcome\", data=data)\n",
    "plt.title(\"Distribusi Kelas (Diabetes vs Non-Diabetes)\")\n",
    "plt.show()\n"
   ]
  },
  {
   "cell_type": "code",
   "execution_count": null,
   "id": "a40597fe-0952-4bfb-8e39-6c9654810ce4",
   "metadata": {},
   "outputs": [],
   "source": [
    "cols_with_zero = [\"Glucose\", \"BloodPressure\", \"SkinThickness\", \"Insulin\", \"BMI\"]\n",
    "data[cols_with_zero] = data[cols_with_zero].replace(0, np.nan)\n",
    "data.fillna(data.median(), inplace=True)\n"
   ]
  },
  {
   "cell_type": "code",
   "execution_count": null,
   "id": "db6d147d-57d0-46ba-bace-3e57c56e59b5",
   "metadata": {},
   "outputs": [],
   "source": [
    "X = data.drop(\"Outcome\", axis=1)\n",
    "y = data[\"Outcome\"]\n",
    "\n",
    "scaler = StandardScaler()\n",
    "X_scaled = scaler.fit_transform(X)\n",
    "\n",
    "X_train, X_test, y_train, y_test = train_test_split(X_scaled, y, test_size=0.2, random_state=42)\n"
   ]
  },
  {
   "cell_type": "code",
   "execution_count": null,
   "id": "3f260073-6bff-4045-b13b-7141e72e2854",
   "metadata": {},
   "outputs": [],
   "source": [
    "lr = LogisticRegression()\n",
    "lr.fit(X_train, y_train)\n",
    "y_pred_lr = lr.predict(X_test)\n",
    "\n",
    "print(\"Logistic Regression Accuracy:\", accuracy_score(y_test, y_pred_lr))\n"
   ]
  },
  {
   "cell_type": "code",
   "execution_count": null,
   "id": "ad1e6b4c-57c0-414a-a1d3-6686d0da280a",
   "metadata": {},
   "outputs": [],
   "source": [
    "dt = DecisionTreeClassifier()\n",
    "dt.fit(X_train, y_train)\n",
    "y_pred_dt = dt.predict(X_test)\n",
    "\n",
    "print(\"Decision Tree Accuracy:\", accuracy_score(y_test, y_pred_dt))\n"
   ]
  },
  {
   "cell_type": "code",
   "execution_count": null,
   "id": "afe3e8ff-5949-4576-8f26-b4087dd00693",
   "metadata": {},
   "outputs": [],
   "source": [
    "rf = RandomForestClassifier()\n",
    "rf.fit(X_train, y_train)\n",
    "y_pred_rf = rf.predict(X_test)\n",
    "\n",
    "print(\"Random Forest Accuracy:\", accuracy_score(y_test, y_pred_rf))\n"
   ]
  },
  {
   "cell_type": "code",
   "execution_count": null,
   "id": "68566d40-31ac-45f0-949a-8b2667b68fe2",
   "metadata": {},
   "outputs": [],
   "source": [
    "print(\"Confusion Matrix - Random Forest:\")\n",
    "print(confusion_matrix(y_test, y_pred_rf))\n",
    "print(\"\\\\nClassification Report:\")\n",
    "print(classification_report(y_test, y_pred_rf))\n"
   ]
  },
  {
   "cell_type": "markdown",
   "id": "086c783d-fb2c-4864-8578-3a03a224615e",
   "metadata": {},
   "source": [
    "## Kesimpulan\n",
    "\n",
    "Berdasarkan percobaan beberapa model klasifikasi:\n",
    "- **Random Forest** memberikan akurasi terbaik di antara model yang diuji.\n",
    "- Preprocessing seperti imputasi nilai nol dan scaling sangat penting dalam meningkatkan kinerja model.\n",
    "- Dataset ini memiliki distribusi yang cukup seimbang antara kelas positif dan negatif.\n",
    "\n",
    "Model ini dapat digunakan untuk membantu prediksi awal risiko diabetes berdasarkan data medis dasar.\n",
    "\n"
   ]
  }
 ],
 "metadata": {
  "kernelspec": {
   "display_name": "Python 3 (ipykernel)",
   "language": "python",
   "name": "python3"
  },
  "language_info": {
   "codemirror_mode": {
    "name": "ipython",
    "version": 3
   },
   "file_extension": ".py",
   "mimetype": "text/x-python",
   "name": "python",
   "nbconvert_exporter": "python",
   "pygments_lexer": "ipython3",
   "version": "3.10.11"
  }
 },
 "nbformat": 4,
 "nbformat_minor": 5
}
